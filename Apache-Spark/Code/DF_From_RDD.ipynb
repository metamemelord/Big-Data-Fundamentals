{
 "cells": [
  {
   "cell_type": "code",
   "execution_count": 1,
   "metadata": {},
   "outputs": [],
   "source": [
    "from pyspark.sql.types import Row, IntegerType\n",
    "from datetime import datetime\n",
    "from pyspark.sql import functions as F"
   ]
  },
  {
   "cell_type": "code",
   "execution_count": 2,
   "metadata": {},
   "outputs": [
    {
     "data": {
      "text/plain": [
       "ParallelCollectionRDD[0] at parallelize at PythonRDD.scala:195"
      ]
     },
     "execution_count": 2,
     "metadata": {},
     "output_type": "execute_result"
    }
   ],
   "source": [
    "records = sc.parallelize([[1, \"Gaurav\", 22], [2, \"Deb\", 23]])\n",
    "records"
   ]
  },
  {
   "cell_type": "code",
   "execution_count": 3,
   "metadata": {},
   "outputs": [
    {
     "data": {
      "text/plain": [
       "[[1, 'Gaurav', 22], [2, 'Deb', 23]]"
      ]
     },
     "execution_count": 3,
     "metadata": {},
     "output_type": "execute_result"
    }
   ],
   "source": [
    "records.collect()"
   ]
  },
  {
   "cell_type": "code",
   "execution_count": 4,
   "metadata": {},
   "outputs": [],
   "source": [
    "column_names = Row('id', 'name', 'age')\n",
    "records = records.map(lambda r: column_names(*r))"
   ]
  },
  {
   "cell_type": "code",
   "execution_count": 5,
   "metadata": {},
   "outputs": [
    {
     "data": {
      "text/plain": [
       "[Row(id=1, name='Gaurav', age=22), Row(id=2, name='Deb', age=23)]"
      ]
     },
     "execution_count": 5,
     "metadata": {},
     "output_type": "execute_result"
    }
   ],
   "source": [
    "records.collect()"
   ]
  },
  {
   "cell_type": "code",
   "execution_count": 6,
   "metadata": {},
   "outputs": [
    {
     "data": {
      "text/plain": [
       "2"
      ]
     },
     "execution_count": 6,
     "metadata": {},
     "output_type": "execute_result"
    }
   ],
   "source": [
    "records.count()"
   ]
  },
  {
   "cell_type": "code",
   "execution_count": 7,
   "metadata": {},
   "outputs": [
    {
     "data": {
      "text/plain": [
       "[Row(id=1, name='Gaurav', age=22), Row(id=2, name='Deb', age=23)]"
      ]
     },
     "execution_count": 7,
     "metadata": {},
     "output_type": "execute_result"
    }
   ],
   "source": [
    "records.take(2)"
   ]
  },
  {
   "cell_type": "code",
   "execution_count": 8,
   "metadata": {},
   "outputs": [
    {
     "data": {
      "text/plain": [
       "DataFrame[id: bigint, name: string, age: bigint]"
      ]
     },
     "execution_count": 8,
     "metadata": {},
     "output_type": "execute_result"
    }
   ],
   "source": [
    "df = records.toDF()\n",
    "df"
   ]
  },
  {
   "cell_type": "code",
   "execution_count": 9,
   "metadata": {
    "scrolled": true
   },
   "outputs": [
    {
     "name": "stdout",
     "output_type": "stream",
     "text": [
      "+---+------+---+\n",
      "| id|  name|age|\n",
      "+---+------+---+\n",
      "|  1|Gaurav| 22|\n",
      "|  2|   Deb| 23|\n",
      "+---+------+---+\n",
      "\n"
     ]
    }
   ],
   "source": [
    "df.show()"
   ]
  },
  {
   "cell_type": "code",
   "execution_count": 10,
   "metadata": {},
   "outputs": [],
   "source": [
    "named_records = sc.parallelize([Row(id=1, name=\"Gaurav\", age=22), Row(id=2, name=\"Deb\", age=23), Row(id=3, name=\"Sartaj\", age=33)])"
   ]
  },
  {
   "cell_type": "code",
   "execution_count": 11,
   "metadata": {},
   "outputs": [
    {
     "data": {
      "text/plain": [
       "[Row(age=22, id=1, name='Gaurav'),\n",
       " Row(age=23, id=2, name='Deb'),\n",
       " Row(age=33, id=3, name='Sartaj')]"
      ]
     },
     "execution_count": 11,
     "metadata": {},
     "output_type": "execute_result"
    }
   ],
   "source": [
    "named_records.collect()"
   ]
  },
  {
   "cell_type": "code",
   "execution_count": 12,
   "metadata": {},
   "outputs": [
    {
     "data": {
      "text/plain": [
       "DataFrame[age: bigint, id: bigint, name: string]"
      ]
     },
     "execution_count": 12,
     "metadata": {},
     "output_type": "execute_result"
    }
   ],
   "source": [
    "named_df = named_records.toDF()\n",
    "named_df"
   ]
  },
  {
   "cell_type": "code",
   "execution_count": 13,
   "metadata": {},
   "outputs": [
    {
     "name": "stdout",
     "output_type": "stream",
     "text": [
      "+---+---+------+\n",
      "|age| id|  name|\n",
      "+---+---+------+\n",
      "| 22|  1|Gaurav|\n",
      "| 23|  2|   Deb|\n",
      "| 33|  3|Sartaj|\n",
      "+---+---+------+\n",
      "\n"
     ]
    }
   ],
   "source": [
    "named_df.show()"
   ]
  },
  {
   "cell_type": "code",
   "execution_count": 14,
   "metadata": {},
   "outputs": [],
   "source": [
    "named_records_with_score = sc.parallelize([Row(id=1, name=\"Gaurav\", age=22, score=[34, 33]), Row(id=2, name=\"Deb\", age=23, score=[34, 23]), Row(id=3, name=\"Sartaj\", age=33, score=[14, 22])])"
   ]
  },
  {
   "cell_type": "code",
   "execution_count": 15,
   "metadata": {},
   "outputs": [
    {
     "name": "stdout",
     "output_type": "stream",
     "text": [
      "+---+---+------+--------+\n",
      "|age| id|  name|   score|\n",
      "+---+---+------+--------+\n",
      "| 22|  1|Gaurav|[34, 33]|\n",
      "| 23|  2|   Deb|[34, 23]|\n",
      "| 33|  3|Sartaj|[14, 22]|\n",
      "+---+---+------+--------+\n",
      "\n"
     ]
    }
   ],
   "source": [
    "complex_df = named_records_with_score.toDF()\n",
    "complex_df.show()"
   ]
  },
  {
   "cell_type": "code",
   "execution_count": 16,
   "metadata": {},
   "outputs": [],
   "source": [
    "sqlCtx = SQLContext(sc)"
   ]
  },
  {
   "cell_type": "code",
   "execution_count": 17,
   "metadata": {},
   "outputs": [
    {
     "data": {
      "text/plain": [
       "DataFrame[id: bigint]"
      ]
     },
     "execution_count": 17,
     "metadata": {},
     "output_type": "execute_result"
    }
   ],
   "source": [
    "df = sqlCtx.range(5)\n",
    "df"
   ]
  },
  {
   "cell_type": "code",
   "execution_count": 18,
   "metadata": {
    "scrolled": true
   },
   "outputs": [
    {
     "name": "stdout",
     "output_type": "stream",
     "text": [
      "+---+\n",
      "| id|\n",
      "+---+\n",
      "|  0|\n",
      "|  1|\n",
      "|  2|\n",
      "|  3|\n",
      "|  4|\n",
      "+---+\n",
      "\n"
     ]
    }
   ],
   "source": [
    "df.show()"
   ]
  },
  {
   "cell_type": "code",
   "execution_count": 19,
   "metadata": {},
   "outputs": [],
   "source": [
    "sql_ctx_data = [(\"Gaurav\", 22), (\"Deb\", 23)]"
   ]
  },
  {
   "cell_type": "code",
   "execution_count": 20,
   "metadata": {},
   "outputs": [
    {
     "name": "stdout",
     "output_type": "stream",
     "text": [
      "+------+---+\n",
      "|    _1| _2|\n",
      "+------+---+\n",
      "|Gaurav| 22|\n",
      "|   Deb| 23|\n",
      "+------+---+\n",
      "\n"
     ]
    }
   ],
   "source": [
    "sqlCtx.createDataFrame(sql_ctx_data).show()"
   ]
  },
  {
   "cell_type": "code",
   "execution_count": 21,
   "metadata": {},
   "outputs": [
    {
     "name": "stdout",
     "output_type": "stream",
     "text": [
      "+------+---+\n",
      "|  Name|Age|\n",
      "+------+---+\n",
      "|Gaurav| 22|\n",
      "|   Deb| 23|\n",
      "+------+---+\n",
      "\n"
     ]
    }
   ],
   "source": [
    "sqlCtx.createDataFrame(sql_ctx_data, [\"Name\", \"Age\"]).show()"
   ]
  },
  {
   "cell_type": "code",
   "execution_count": 22,
   "metadata": {},
   "outputs": [],
   "source": [
    "complex_data = [['udilctmebs',\n",
    "  [988, 185, 484, 86, 734, 443, 90, 716, 988, 506],\n",
    "  {'a': 54, 'n': 43, 'w': 55, 's': 2, 'h': 47},\n",
    "  datetime(2010, 11, 1, 0, 0)],\n",
    " ['thwdwfeswz',\n",
    "  [936, 728, 506, 916, 816, 691, 491, 55, 528, 610],\n",
    "  {'z': 6, 'h': 69, 'q': 55, 'm': 17, 'r': 13},\n",
    "  datetime(1983, 7, 13, 0, 0)],\n",
    " ['miusfkowwk',\n",
    "  [371, 871, 203, 49, 657, 200, 530, 372, 302, 403],\n",
    "  {'s': 4, 'o': 12, 'g': 2, 'c': 49, 'q': 4},\n",
    "  datetime(1993, 4, 1, 0, 0)],\n",
    " ['zqgtupjqdh',\n",
    "  [465, 742, 847, 416, 368, 534, 81, 974, 14, 344],\n",
    "  {'r': 95, 'e': 13, 'c': 14, 'w': 20, 'o': 70},\n",
    "  datetime(2001, 7, 12, 0, 0)],\n",
    " ['jywktnyhsm',\n",
    "  [187, 676, 765, 517, 74, 25, 974, 207, 78, 25],\n",
    "  {'l': 88, 'y': 40, 'k': 85, 'n': 82, 't': 52},\n",
    "  datetime(2010, 7, 15, 0, 0)],\n",
    " ['kbvjwwthli',\n",
    "  [447, 937, 213, 755, 80, 177, 734, 607, 455, 318],\n",
    "  {'m': 14, 't': 86, 'b': 25, 'j': 83, 'f': 56},\n",
    "  datetime(2011, 7, 26, 0, 0)],\n",
    " ['rgkkrkuoax',\n",
    "  [98, 868, 975, 32, 362, 192, 860, 791, 994, 223],\n",
    "  {'n': 55, 'q': 30, 'a': 60, 'r': 7, 'y': 61},\n",
    "  datetime(1993, 2, 15, 0, 0)],\n",
    " ['supkvavoop',\n",
    "  [941, 875, 654, 545, 88, 127, 818, 170, 865, 304],\n",
    "  {'x': 62, 'n': 100, 'h': 43, 'a': 87, 'l': 91},\n",
    "  datetime(2018, 5, 13, 0, 0)],\n",
    " ['vbpslzfoua',\n",
    "  [862, 694, 264, 171, 998, 991, 488, 95, 269, 807],\n",
    "  {'n': 49, 'm': 33, 'q': 34, 'i': 77, 'v': 38},\n",
    "  datetime(2023, 9, 10, 0, 0)],\n",
    " ['vahirmwvly',\n",
    "  [709, 628, 688, 138, 414, 356, 257, 615, 940, 560],\n",
    "  {'f': 18, 'v': 35, 'q': 66, 's': 48, 'k': 43},\n",
    "  datetime(1984, 8, 10, 0, 0)]]"
   ]
  },
  {
   "cell_type": "code",
   "execution_count": 23,
   "metadata": {
    "scrolled": true
   },
   "outputs": [
    {
     "data": {
      "text/plain": [
       "[Row(name='udilctmebs', scores=[988, 185, 484, 86, 734, 443, 90, 716, 988, 506], keys={'a': 54, 'n': 43, 'w': 55, 's': 2, 'h': 47}, date=datetime.datetime(2010, 11, 1, 0, 0)),\n",
       " Row(name='thwdwfeswz', scores=[936, 728, 506, 916, 816, 691, 491, 55, 528, 610], keys={'z': 6, 'h': 69, 'q': 55, 'm': 17, 'r': 13}, date=datetime.datetime(1983, 7, 13, 0, 0)),\n",
       " Row(name='miusfkowwk', scores=[371, 871, 203, 49, 657, 200, 530, 372, 302, 403], keys={'s': 4, 'o': 12, 'g': 2, 'c': 49, 'q': 4}, date=datetime.datetime(1993, 4, 1, 0, 0)),\n",
       " Row(name='zqgtupjqdh', scores=[465, 742, 847, 416, 368, 534, 81, 974, 14, 344], keys={'r': 95, 'e': 13, 'c': 14, 'w': 20, 'o': 70}, date=datetime.datetime(2001, 7, 12, 0, 0)),\n",
       " Row(name='jywktnyhsm', scores=[187, 676, 765, 517, 74, 25, 974, 207, 78, 25], keys={'l': 88, 'y': 40, 'k': 85, 'n': 82, 't': 52}, date=datetime.datetime(2010, 7, 15, 0, 0)),\n",
       " Row(name='kbvjwwthli', scores=[447, 937, 213, 755, 80, 177, 734, 607, 455, 318], keys={'m': 14, 't': 86, 'b': 25, 'j': 83, 'f': 56}, date=datetime.datetime(2011, 7, 26, 0, 0)),\n",
       " Row(name='rgkkrkuoax', scores=[98, 868, 975, 32, 362, 192, 860, 791, 994, 223], keys={'n': 55, 'q': 30, 'a': 60, 'r': 7, 'y': 61}, date=datetime.datetime(1993, 2, 15, 0, 0)),\n",
       " Row(name='supkvavoop', scores=[941, 875, 654, 545, 88, 127, 818, 170, 865, 304], keys={'x': 62, 'n': 100, 'h': 43, 'a': 87, 'l': 91}, date=datetime.datetime(2018, 5, 13, 0, 0)),\n",
       " Row(name='vbpslzfoua', scores=[862, 694, 264, 171, 998, 991, 488, 95, 269, 807], keys={'n': 49, 'm': 33, 'q': 34, 'i': 77, 'v': 38}, date=datetime.datetime(2023, 9, 10, 0, 0)),\n",
       " Row(name='vahirmwvly', scores=[709, 628, 688, 138, 414, 356, 257, 615, 940, 560], keys={'f': 18, 'v': 35, 'q': 66, 's': 48, 'k': 43}, date=datetime.datetime(1984, 8, 10, 0, 0))]"
      ]
     },
     "execution_count": 23,
     "metadata": {},
     "output_type": "execute_result"
    }
   ],
   "source": [
    "complex_sc_values = sc.parallelize(complex_data)\n",
    "column_names = Row('name', 'scores', 'keys', 'date')\n",
    "complex_sc_values = complex_sc_values.map(lambda r: column_names(*r))\n",
    "complex_sc_values.collect()"
   ]
  },
  {
   "cell_type": "code",
   "execution_count": 24,
   "metadata": {},
   "outputs": [
    {
     "data": {
      "text/plain": [
       "[Row(name='udilctmebs', scores=[988, 185, 484, 86, 734, 443, 90, 716, 988, 506], keys={'h': 47, 'a': 54, 's': 2, 'n': 43, 'w': 55}, date=datetime.datetime(2010, 11, 1, 0, 0)),\n",
       " Row(name='thwdwfeswz', scores=[936, 728, 506, 916, 816, 691, 491, 55, 528, 610], keys={'h': 69, 'q': 55, 'r': 13, 'z': 6, 'm': 17}, date=datetime.datetime(1983, 7, 13, 0, 0)),\n",
       " Row(name='miusfkowwk', scores=[371, 871, 203, 49, 657, 200, 530, 372, 302, 403], keys={'q': 4, 'c': 49, 's': 4, 'g': 2, 'o': 12}, date=datetime.datetime(1993, 4, 1, 0, 0)),\n",
       " Row(name='zqgtupjqdh', scores=[465, 742, 847, 416, 368, 534, 81, 974, 14, 344], keys={'r': 95, 'c': 14, 'e': 13, 'w': 20, 'o': 70}, date=datetime.datetime(2001, 7, 12, 0, 0)),\n",
       " Row(name='jywktnyhsm', scores=[187, 676, 765, 517, 74, 25, 974, 207, 78, 25], keys={'y': 40, 'k': 85, 't': 52, 'l': 88, 'n': 82}, date=datetime.datetime(2010, 7, 15, 0, 0)),\n",
       " Row(name='kbvjwwthli', scores=[447, 937, 213, 755, 80, 177, 734, 607, 455, 318], keys={'b': 25, 'j': 83, 't': 86, 'm': 14, 'f': 56}, date=datetime.datetime(2011, 7, 26, 0, 0)),\n",
       " Row(name='rgkkrkuoax', scores=[98, 868, 975, 32, 362, 192, 860, 791, 994, 223], keys={'a': 60, 'q': 30, 'y': 61, 'r': 7, 'n': 55}, date=datetime.datetime(1993, 2, 15, 0, 0)),\n",
       " Row(name='supkvavoop', scores=[941, 875, 654, 545, 88, 127, 818, 170, 865, 304], keys={'h': 43, 'x': 62, 'a': 87, 'l': 91, 'n': 100}, date=datetime.datetime(2018, 5, 13, 0, 0)),\n",
       " Row(name='vbpslzfoua', scores=[862, 694, 264, 171, 998, 991, 488, 95, 269, 807], keys={'q': 34, 'i': 77, 'm': 33, 'v': 38, 'n': 49}, date=datetime.datetime(2023, 9, 10, 0, 0)),\n",
       " Row(name='vahirmwvly', scores=[709, 628, 688, 138, 414, 356, 257, 615, 940, 560], keys={'q': 66, 's': 48, 'k': 43, 'v': 35, 'f': 18}, date=datetime.datetime(1984, 8, 10, 0, 0))]"
      ]
     },
     "execution_count": 24,
     "metadata": {},
     "output_type": "execute_result"
    }
   ],
   "source": [
    "complex_df_values = sqlCtx.createDataFrame(complex_data, ['name', 'scores', 'keys', 'date'])\n",
    "complex_df_values.collect()"
   ]
  },
  {
   "cell_type": "code",
   "execution_count": 25,
   "metadata": {},
   "outputs": [
    {
     "name": "stdout",
     "output_type": "stream",
     "text": [
      "+----------+--------------------+--------------------+-------------------+\n",
      "|      name|              scores|                keys|               date|\n",
      "+----------+--------------------+--------------------+-------------------+\n",
      "|udilctmebs|[988, 185, 484, 8...|[h -> 47, a -> 54...|2010-11-01 00:00:00|\n",
      "|thwdwfeswz|[936, 728, 506, 9...|[h -> 69, q -> 55...|1983-07-13 00:00:00|\n",
      "|miusfkowwk|[371, 871, 203, 4...|[q -> 4, c -> 49,...|1993-04-01 00:00:00|\n",
      "|zqgtupjqdh|[465, 742, 847, 4...|[r -> 95, c -> 14...|2001-07-12 00:00:00|\n",
      "|jywktnyhsm|[187, 676, 765, 5...|[y -> 40, k -> 85...|2010-07-15 00:00:00|\n",
      "|kbvjwwthli|[447, 937, 213, 7...|[b -> 25, j -> 83...|2011-07-26 00:00:00|\n",
      "|rgkkrkuoax|[98, 868, 975, 32...|[a -> 60, q -> 30...|1993-02-15 00:00:00|\n",
      "|supkvavoop|[941, 875, 654, 5...|[h -> 43, x -> 62...|2018-05-13 00:00:00|\n",
      "|vbpslzfoua|[862, 694, 264, 1...|[q -> 34, i -> 77...|2023-09-10 00:00:00|\n",
      "|vahirmwvly|[709, 628, 688, 1...|[q -> 66, s -> 48...|1984-08-10 00:00:00|\n",
      "+----------+--------------------+--------------------+-------------------+\n",
      "\n"
     ]
    }
   ],
   "source": [
    "complex_df_values.show()"
   ]
  },
  {
   "cell_type": "markdown",
   "metadata": {},
   "source": [
    "Selectively get values from DF's RDD:"
   ]
  },
  {
   "cell_type": "code",
   "execution_count": 26,
   "metadata": {},
   "outputs": [
    {
     "data": {
      "text/plain": [
       "[('udilctmebs', datetime.datetime(2010, 11, 1, 0, 0)),\n",
       " ('thwdwfeswz', datetime.datetime(1983, 7, 13, 0, 0)),\n",
       " ('miusfkowwk', datetime.datetime(1993, 4, 1, 0, 0)),\n",
       " ('zqgtupjqdh', datetime.datetime(2001, 7, 12, 0, 0)),\n",
       " ('jywktnyhsm', datetime.datetime(2010, 7, 15, 0, 0)),\n",
       " ('kbvjwwthli', datetime.datetime(2011, 7, 26, 0, 0)),\n",
       " ('rgkkrkuoax', datetime.datetime(1993, 2, 15, 0, 0)),\n",
       " ('supkvavoop', datetime.datetime(2018, 5, 13, 0, 0)),\n",
       " ('vbpslzfoua', datetime.datetime(2023, 9, 10, 0, 0)),\n",
       " ('vahirmwvly', datetime.datetime(1984, 8, 10, 0, 0))]"
      ]
     },
     "execution_count": 26,
     "metadata": {},
     "output_type": "execute_result"
    }
   ],
   "source": [
    "complex_df_values.rdd.map(lambda x: (x.name, x.date)).collect()"
   ]
  },
  {
   "cell_type": "markdown",
   "metadata": {},
   "source": [
    "There's a builtin function for this on dataframe:"
   ]
  },
  {
   "cell_type": "code",
   "execution_count": 27,
   "metadata": {},
   "outputs": [
    {
     "name": "stdout",
     "output_type": "stream",
     "text": [
      "+----------+--------------------+\n",
      "|      name|              scores|\n",
      "+----------+--------------------+\n",
      "|udilctmebs|[988, 185, 484, 8...|\n",
      "|thwdwfeswz|[936, 728, 506, 9...|\n",
      "|miusfkowwk|[371, 871, 203, 4...|\n",
      "|zqgtupjqdh|[465, 742, 847, 4...|\n",
      "|jywktnyhsm|[187, 676, 765, 5...|\n",
      "|kbvjwwthli|[447, 937, 213, 7...|\n",
      "|rgkkrkuoax|[98, 868, 975, 32...|\n",
      "|supkvavoop|[941, 875, 654, 5...|\n",
      "|vbpslzfoua|[862, 694, 264, 1...|\n",
      "|vahirmwvly|[709, 628, 688, 1...|\n",
      "+----------+--------------------+\n",
      "\n"
     ]
    }
   ],
   "source": [
    "complex_df_values.select('name', 'scores').show()"
   ]
  },
  {
   "cell_type": "code",
   "execution_count": 28,
   "metadata": {},
   "outputs": [
    {
     "data": {
      "text/plain": [
       "['udilctmebs-hehe',\n",
       " 'thwdwfeswz-hehe',\n",
       " 'miusfkowwk-hehe',\n",
       " 'zqgtupjqdh-hehe',\n",
       " 'jywktnyhsm-hehe',\n",
       " 'kbvjwwthli-hehe',\n",
       " 'rgkkrkuoax-hehe',\n",
       " 'supkvavoop-hehe',\n",
       " 'vbpslzfoua-hehe',\n",
       " 'vahirmwvly-hehe']"
      ]
     },
     "execution_count": 28,
     "metadata": {},
     "output_type": "execute_result"
    }
   ],
   "source": [
    "complex_df_values.rdd\\\n",
    "                    .map(lambda x: (x.name + \"-hehe\"))\\\n",
    "                    .collect()"
   ]
  },
  {
   "cell_type": "markdown",
   "metadata": {},
   "source": [
    "**Adding a new column to the DF:**"
   ]
  },
  {
   "cell_type": "code",
   "execution_count": 29,
   "metadata": {},
   "outputs": [
    {
     "name": "stdout",
     "output_type": "stream",
     "text": [
      "+----------+--------------------+-----------+\n",
      "|      name|              scores|total score|\n",
      "+----------+--------------------+-----------+\n",
      "|udilctmebs|[988, 185, 484, 8...|       5220|\n",
      "|thwdwfeswz|[936, 728, 506, 9...|       6277|\n",
      "|miusfkowwk|[371, 871, 203, 4...|       3958|\n",
      "|zqgtupjqdh|[465, 742, 847, 4...|       4785|\n",
      "|jywktnyhsm|[187, 676, 765, 5...|       3528|\n",
      "|kbvjwwthli|[447, 937, 213, 7...|       4723|\n",
      "|rgkkrkuoax|[98, 868, 975, 32...|       5395|\n",
      "|supkvavoop|[941, 875, 654, 5...|       5387|\n",
      "|vbpslzfoua|[862, 694, 264, 1...|       5639|\n",
      "|vahirmwvly|[709, 628, 688, 1...|       5305|\n",
      "+----------+--------------------+-----------+\n",
      "\n"
     ]
    }
   ],
   "source": [
    "sum_cols = F.udf(lambda arr: 0 if arr == [] else __builtins__.sum(arr),IntegerType())\n",
    "complex_df_values.select('name', 'scores').withColumn('total score', sum_cols(F.col(\"scores\"))).show()"
   ]
  },
  {
   "cell_type": "code",
   "execution_count": null,
   "metadata": {},
   "outputs": [],
   "source": []
  }
 ],
 "metadata": {
  "kernelspec": {
   "display_name": "Python 3",
   "language": "python",
   "name": "python3"
  },
  "language_info": {
   "codemirror_mode": {
    "name": "ipython",
    "version": 3
   },
   "file_extension": ".py",
   "mimetype": "text/x-python",
   "name": "python",
   "nbconvert_exporter": "python",
   "pygments_lexer": "ipython3",
   "version": "3.6.5"
  }
 },
 "nbformat": 4,
 "nbformat_minor": 2
}
